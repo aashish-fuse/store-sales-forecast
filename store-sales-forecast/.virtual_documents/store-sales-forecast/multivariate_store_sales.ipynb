from pathlib import Path
from warnings import filterwarnings

filterwarnings(action="ignore")

PROJECT_DIR = Path()
DATA_DIR = PROJECT_DIR / "dataset"


import pandas as pd

store_sales = pd.read_csv(
        DApd.date_range(
        store_sales.index[0].to_timestamp(), store_sales.index[-1].to_timestamp()
    ).to_period()
) - set(store_sales.index.get_level_values(level=0).unique())
for idx in missing_idx:
    store_sales.loc[idx] = 0.0

store_sales = store_sales.stack().sort_index(level=0)
store_sales




